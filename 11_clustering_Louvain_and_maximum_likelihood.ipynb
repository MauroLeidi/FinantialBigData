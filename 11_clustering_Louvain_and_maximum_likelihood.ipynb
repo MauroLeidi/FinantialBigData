{
 "cells": [
  {
   "cell_type": "code",
   "execution_count": 160,
   "metadata": {},
   "outputs": [],
   "source": [
    "from numpy import linalg as LA\n",
    "import numpy as np\n",
    "import pandas as pd\n",
    "import math\n",
    "import networkx as nx\n",
    "import community\n",
    "import community.community_louvain as community_louvain\n",
    "import matplotlib.pyplot as plt\n",
    "from pypfopt import EfficientFrontier\n",
    "from pypfopt import risk_models\n",
    "from pypfopt import expected_returns"
   ]
  },
  {
   "cell_type": "code",
   "execution_count": 2,
   "metadata": {},
   "outputs": [],
   "source": [
    "def compute_C_minus_C0(lambdas,v,lambda_plus):\n",
    "    N=len(lambdas)\n",
    "    C_clean=np.zeros((N, N))\n",
    "    \n",
    "    v_m=np.matrix(v)\n",
    "    \n",
    "    # TO CHECK: WHY N-1?!?!? isn't range enough to stop at N-1?!\n",
    "    # _s stands for _structure below: \n",
    "    for i in range(N-1):\n",
    "        if lambdas[i]>lambda_plus:\n",
    "            C_clean=C_clean+lambdas[i] * np.dot(v_m[:,i],v_m[:,i].T)  \n",
    "    return C_clean    \n",
    "    "
   ]
  },
  {
   "cell_type": "code",
   "execution_count": 199,
   "metadata": {},
   "outputs": [],
   "source": [
    "def LouvainCorrelationClustering(R):   # R is a matrix of return\n",
    "    \n",
    "    N=R.shape[1]\n",
    "    T=R.shape[0]\n",
    "\n",
    "    q=N*1./T\n",
    "    lambda_plus=(1.+np.sqrt(q))**2\n",
    "\n",
    "    C=R.corr()\n",
    "    lambdas, v = LA.eigh(C)\n",
    "\n",
    "    order = np.argsort(lambdas)\n",
    "    lambdas,v = lambdas[order],v[:,order]\n",
    "      \n",
    "    C_s=compute_C_minus_C0(lambdas,v,lambda_plus)\n",
    "    mygraph= nx.from_numpy_matrix(np.abs(C_s))\n",
    "    partition = community.community_louvain.best_partition(mygraph)\n",
    "    DF=pd.DataFrame.from_dict(partition,orient=\"index\")\n",
    "    DF['StockName'] = R.columns\n",
    "    DF = DF.reset_index()\n",
    "    DF = DF.drop(columns = 'index')\n",
    "    DF = DF.rename({0: 'Cluster'},axis = 'columns')\n",
    "    DF = DF.set_index('StockName')\n",
    "    \n",
    "    return(DF)"
   ]
  },
  {
   "cell_type": "code",
   "execution_count": 134,
   "metadata": {
    "scrolled": true
   },
   "outputs": [
    {
     "name": "stdout",
     "output_type": "stream",
     "text": [
      "    0\n",
      "0   0\n",
      "1   1\n",
      "2   0\n",
      "3   0\n",
      "4   2\n",
      ".. ..\n",
      "89  4\n",
      "90  4\n",
      "91  1\n",
      "92  1\n",
      "93  4\n",
      "\n",
      "[94 rows x 1 columns]\n",
      "           Cluster\n",
      "StockName         \n",
      "^GSPC            0\n",
      "GE               1\n",
      "IBM              0\n",
      "DIS              0\n",
      "BA               2\n",
      "...            ...\n",
      "GRA              4\n",
      "LPX              4\n",
      "VLO              1\n",
      "WMB              1\n",
      "TXI              4\n",
      "\n",
      "[94 rows x 1 columns]\n"
     ]
    }
   ],
   "source": [
    "clust_louvain=LouvainCorrelationClustering(DF_cut)\n",
    "print(clust_louvain)\n",
    "# print(clust_louvain.value_counts()) # 6 clusters"
   ]
  },
  {
   "cell_type": "code",
   "execution_count": 131,
   "metadata": {},
   "outputs": [],
   "source": [
    "import numpy as np\n",
    "\n",
    "DF=pd.read_parquet(\"us_equities_logreturns.parquet\")\n",
    "\n",
    "DF_cut = drop_nans(DF)"
   ]
  },
  {
   "cell_type": "code",
   "execution_count": 6,
   "metadata": {},
   "outputs": [
    {
     "name": "stdout",
     "output_type": "stream",
     "text": [
      "Index(['^GSPC', 'GE', 'IBM', 'DIS', 'BA', 'CAT', 'AA', 'HPQ', 'DD', 'KO',\n",
      "       ...\n",
      "       'NSM', 'CLP', 'CTX', 'CTR', 'DYN', 'AIB', 'KIM', 'SFN', 'TCO', 'S'],\n",
      "      dtype='object', length=1012)\n"
     ]
    },
    {
     "data": {
      "text/plain": [
       "[<matplotlib.lines.Line2D at 0x18d079ed448>]"
      ]
     },
     "execution_count": 6,
     "metadata": {},
     "output_type": "execute_result"
    },
    {
     "data": {
      "image/png": "[encoded data removed]",
      "text/plain": [
       "<Figure size 432x288 with 1 Axes>"
      ]
     },
     "metadata": {
      "needs_background": "light"
     },
     "output_type": "display_data"
    }
   ],
   "source": [
    "import matplotlib.pyplot as plt\n",
    "print(DF.columns)\n",
    "plt.plot(DF['IBM'].index, DF['IBM'])\n",
    "#The returns are daily because 16k/252 is around 60 years"
   ]
  },
  {
   "cell_type": "markdown",
   "metadata": {},
   "source": [
    "## Louvain clustering"
   ]
  },
  {
   "cell_type": "code",
   "execution_count": 206,
   "metadata": {},
   "outputs": [],
   "source": [
    "clust_louvain=LouvainCorrelationClustering(DF_cut)\n",
    "#print(clust_louvain)\n",
    "#print(clust_louvain.value_counts()) # 6 clusters\n",
    "\n",
    "def drop_nans(df,limit = 0.5):\n",
    "    \"\"\"given a dataframe and a limit value, first drops all the columns that have\n",
    "    more than limit % nans than drops all raws containing at least one nan value\"\"\"\n",
    "    row_num = df.shape[0]\n",
    "    nan_col = df.isnull().sum(axis=0)>(row_num*limit)\n",
    "    df=df.drop(columns=df.columns[nan_col])\n",
    "    return df.dropna()\n",
    "\n",
    "def pick_n_from_k(df,n,seed = 0,onlynames = False):\n",
    "    \"\"\"given a dataframe and a number N, returns a dataframe that \n",
    "    contains n randomly selected columns of the input dataframe\"\"\"\n",
    "    \n",
    "    k = df.shape[0]\n",
    "    \n",
    "    #safety check\n",
    "    assert k >= n, 'K should be >= N'\n",
    "    \n",
    "    #if onlynames is active return only the name of the columns\n",
    "    if onlynames:\n",
    "        random.seed(seed)\n",
    "        return random.sample(list(df.columns), n)\n",
    "    return df.sample(n=n, random_state=seed, axis='columns')\n",
    "\n",
    "def bootstrap_CI(data, nbr_draws):\n",
    "    \"\"\"Given an array and a number of random samples performs bootstrapping to\n",
    "    find the confidence intervals of the mean\"\"\"\n",
    "    # Input: your array and the number of random samples (e.g., 1000 is a good number)\n",
    "    # Output: [lower error, upper error]\n",
    "\n",
    "    means = np.zeros(nbr_draws)\n",
    "    data = np.array(data)\n",
    "\n",
    "    for n in range(nbr_draws):\n",
    "        indices = np.random.randint(0, len(data), len(data))\n",
    "        data_tmp = data[indices] \n",
    "        means[n] = np.nanmean(data_tmp)\n",
    "\n",
    "    return [np.nanpercentile(means, 0.5),np.nanpercentile(means, 99.5)]\n",
    "\n",
    "def optimalWeights(df,verbose = False,shortBan = True):\n",
    "    \"\"\"use pypfopt to compute the optimal weights of the portfolio following markovitz strategy\"\"\"\n",
    "    mu = expected_returns.mean_historical_return(df,returns_data=True,log_returns =True)\n",
    "    S = risk_models.sample_cov(df,returns_data=True,log_returns =True)\n",
    "    if shortBan:\n",
    "        #By default the ef is long only \n",
    "        ef = EfficientFrontier(mu, S)\n",
    "    else:\n",
    "        #Allow negative weights => No shortBan\n",
    "        ef = EfficientFrontier(mu, S, weight_bounds=(-1, 1))\n",
    "    #We could limit the maxweight just by changing the bounds ex: max 10% with shortban weight_bounds=(0, 0.1)\n",
    "    raw_weights = ef.max_sharpe()\n",
    "    cleaned_weights = ef.clean_weights()\n",
    "    if verbose:\n",
    "        return ef.portfolio_performance(verbose=False)\n",
    "    return cleaned_weights\n",
    "\n",
    "def weight_inverse_std(df):\n",
    "    \"\"\"Helper function for the inner-cluster aggregation using inverse std technique.\n",
    "    Given a df containing all data of a cluster rescale the value of returns of each stock\n",
    "    taking as weight the sum(std)/std then aggregate all the returns toghether. \n",
    "    The following methods will use this portfolio of clustered stocks as a single \n",
    "    stock and compose a portfolio\"\"\"\n",
    "    sum_stds = 0\n",
    "    cluster = df['Cluster'].iloc[0]\n",
    "    df = df.drop(columns = ['Cluster']).transpose()\n",
    "    for col in df.columns:\n",
    "        if col != 'Cluster':\n",
    "            sum_stds += df[col].std()\n",
    "    for col in df.columns:\n",
    "        if col != 'Cluster':\n",
    "            df[col] = df[col]*sum_stds/df[col].std()\n",
    "    df = df.sum(axis = 1)\n",
    "    df = df.transpose()\n",
    "    df['Cluster'] = cluster\n",
    "    #df = df.transpose()\n",
    "    return df\n",
    "\n",
    "def compute_clusters_returns(df,clusters,intra_cluster_strategy = 'equal weight'):\n",
    "    \"\"\"given a dataframe and his clusters compute the clusters means\"\"\"\n",
    "    \n",
    "    if intra_cluster_strategy == 'equal weight':\n",
    "        means = df.transpose()\n",
    "        means = pd.merge(means, clusters,left_index = True, right_on='StockName')\n",
    "        means = means.groupby('Cluster').mean().transpose()\n",
    "    elif intra_cluster_strategy == 'inverse std':\n",
    "        #TO DO: test this method\n",
    "        dftr = df.transpose()\n",
    "        dftr = pd.merge(dftr, clusters,left_index = True, right_on='StockName')\n",
    "        means = dftr.groupby('Cluster').apply(lambda x: weight_inverse_std(x))\n",
    "        means = means.drop(columns = ['Cluster']).transpose()\n",
    "    return means\n",
    "\n",
    "def compute_portfolio_return(df,clustering = 'louvian',inter_cluster_strategy ='equal weight',intra_cluster_strategy = 'equal weight'):\n",
    "    \"\"\"given a dataframe, a clustering method and a portfolio weighting strategy\n",
    "    compute the return of the portfolio composed by appling clustering than combining\n",
    "    the clusters using the strategy\"\"\"\n",
    "    if inter_cluster_strategy == 'equal weight':\n",
    "        \n",
    "        if clustering == 'louvian':\n",
    "            clusters = LouvainCorrelationClustering(df)\n",
    "            \n",
    "        elif clustering == 'GiadaMarsili':\n",
    "            clusters = aggregateClusters_(df)\n",
    "            \n",
    "        cluster_means = compute_clusters_returns(df,clusters,intra_cluster_strategy)\n",
    "        portfolio_mean = cluster_means.mean().mean()\n",
    "        portfolio_std = cluster_means.mean(axis = 1).std()\n",
    "        portfolio_std = np.exp((portfolio_std)*252)-1\n",
    "        portfolio_mean = np.exp((portfolio_mean)*252)-1\n",
    "        SharpR = portfolio_mean/portfolio_std\n",
    "        return portfolio_mean,portfolio_std,SharpR\n",
    "        \n",
    "    elif inter_cluster_strategy == 'inverse std':\n",
    "        \n",
    "        if clustering == 'louvian':\n",
    "            clusters = LouvainCorrelationClustering(df)\n",
    "            \n",
    "        elif clustering == 'GiadaMarsili':\n",
    "            clusters = aggregateClusters_(df)\n",
    "               \n",
    "        cluster_means = compute_clusters_returns(df,clusters,intra_cluster_strategy)\n",
    "        cluster_std = cluster_means.std()\n",
    "        weights = np.array([ i/sum(list(cluster_std)) for i in list(cluster_std)]).T\n",
    "        # I dont know if I can do the mean before or not maybe it changes if variables are dependent\n",
    "        portfolio_mean = (np.array(cluster_means)@weights).mean()\n",
    "        portfolio_std = (np.array(cluster_means)@weights).std()\n",
    "        portfolio_std = np.exp((portfolio_std)*252)-1\n",
    "        portfolio_mean = np.exp((portfolio_mean)*252)-1\n",
    "        SharpR = portfolio_mean/portfolio_std\n",
    "        return portfolio_mean,portfolio_std,SharpR\n",
    "        \n",
    "    elif inter_cluster_strategy == 'markovitz':\n",
    "        if clustering == 'NO clustering':\n",
    "            #no clustering only markovitz portfolio\n",
    "            portfolio_mean, portfolio_std, SharpR = optimalWeights(df,verbose = True)\n",
    "            return portfolio_mean,portfolio_std,SharpR\n",
    "        \n",
    "        elif clustering == 'louvian':\n",
    "            clusters = LouvainCorrelationClustering(df)\n",
    "            \n",
    "        elif clustering == 'GiadaMarsili':\n",
    "            clusters = aggregateClusters_(df)\n",
    "    \n",
    "        cluster_means = compute_clusters_returns(df,clusters,intra_cluster_strategy)\n",
    "        portfolio_mean, portfolio_std, SharpR = optimalWeights(df,verbose = True)\n",
    "        return portfolio_mean,portfolio_std,SharpR\n",
    "             \n",
    "def compute_stategy_avg_return(df,n,n_picks,clustering = 'louvian',inter_cluster_strategy ='equal weight',intra_cluster_strategy = 'equal weight'):\n",
    "    \"\"\"given a dataframe, a number of picks, a size n, a clustering method and a portfolio weighting strategy\n",
    "    compute the average return of n_picks portfolios composed picking at random n stocks from the df,\n",
    "    applying clustering and combining with the weight strategy\"\"\"\n",
    "    portfolio_returns = []\n",
    "    portfolio_risks = []\n",
    "    portfolio_sharpRs = []\n",
    "    for i in range(n_picks):\n",
    "        sub_df = pick_n_from_k(df,n,seed = (i+1))\n",
    "#         print(list(sub_df.columns))\n",
    "        portfolio_return,portfolio_risk,SharpR = compute_portfolio_return(sub_df,clustering = clustering,inter_cluster_strategy =inter_cluster_strategy,intra_cluster_strategy = intra_cluster_strategy)\n",
    "        print('portfolio nb: ',i, 'return: ',portfolio_return)\n",
    "        portfolio_returns.append(portfolio_return)\n",
    "        portfolio_risks.append(portfolio_risk)\n",
    "        portfolio_sharpRs.append(SharpR)\n",
    "    portfolio_returns_mean = sum(portfolio_returns)/len(portfolio_returns)\n",
    "    CI = bootstrap_CI(portfolio_returns,int(n_picks/1.5))\n",
    "    yerr = [-(CI[0]-portfolio_returns_mean),CI[1]-portfolio_returns_mean]\n",
    "#     print(portfolio_returns_mean)\n",
    "    plt.errorbar(1,portfolio_returns_mean,yerr = np.array(yerr).reshape(2,1), fmt='.', ecolor = 'red')\n",
    "    plt.ylabel(\"Mean return of clustering method :\" + clustering +' intra ' + intra_cluster_strategy +' inter ' + inter_cluster_strategy)\n",
    "    plt.title(\"Mean return of clustering method with confidence intervals\")\n",
    "    return portfolio_returns,portfolio_risks,portfolio_sharpRs"
   ]
  },
  {
   "cell_type": "code",
   "execution_count": 207,
   "metadata": {},
   "outputs": [],
   "source": [
    "DF=pd.read_parquet(\"us_equities_logreturns.parquet\")\n",
    "\n",
    "DF = drop_nans(DF)\n",
    "#display(DF)"
   ]
  },
  {
   "cell_type": "code",
   "execution_count": 212,
   "metadata": {},
   "outputs": [
    {
     "ename": "ValueError",
     "evalue": "Length of values (65) does not match length of index (218)",
     "output_type": "error",
     "traceback": [
      "\u001b[1;31m---------------------------------------------------------------------------\u001b[0m",
      "\u001b[1;31mValueError\u001b[0m                                Traceback (most recent call last)",
      "\u001b[1;32m<ipython-input-212-f2eb4d2bb8b6>\u001b[0m in \u001b[0;36m<module>\u001b[1;34m\u001b[0m\n\u001b[1;32m----> 1\u001b[1;33m \u001b[0mprint\u001b[0m\u001b[1;33m(\u001b[0m\u001b[1;34m'strategy mean: '\u001b[0m\u001b[1;33m,\u001b[0m\u001b[0mcompute_stategy_avg_return\u001b[0m\u001b[1;33m(\u001b[0m\u001b[0mDF\u001b[0m\u001b[1;33m,\u001b[0m\u001b[1;36m65\u001b[0m\u001b[1;33m,\u001b[0m\u001b[1;36m10\u001b[0m\u001b[1;33m,\u001b[0m\u001b[0mclustering\u001b[0m \u001b[1;33m=\u001b[0m \u001b[1;34m'GiadaMarsili'\u001b[0m\u001b[1;33m)\u001b[0m\u001b[1;33m)\u001b[0m\u001b[1;33m\u001b[0m\u001b[1;33m\u001b[0m\u001b[0m\n\u001b[0m",
      "\u001b[1;32m<ipython-input-206-7a509d3548c6>\u001b[0m in \u001b[0;36mcompute_stategy_avg_return\u001b[1;34m(df, n, n_picks, clustering, inter_cluster_strategy, intra_cluster_strategy)\u001b[0m\n\u001b[0;32m    160\u001b[0m         \u001b[0msub_df\u001b[0m \u001b[1;33m=\u001b[0m \u001b[0mpick_n_from_k\u001b[0m\u001b[1;33m(\u001b[0m\u001b[0mdf\u001b[0m\u001b[1;33m,\u001b[0m\u001b[0mn\u001b[0m\u001b[1;33m,\u001b[0m\u001b[0mseed\u001b[0m \u001b[1;33m=\u001b[0m \u001b[1;33m(\u001b[0m\u001b[0mi\u001b[0m\u001b[1;33m+\u001b[0m\u001b[1;36m1\u001b[0m\u001b[1;33m)\u001b[0m\u001b[1;33m)\u001b[0m\u001b[1;33m\u001b[0m\u001b[1;33m\u001b[0m\u001b[0m\n\u001b[0;32m    161\u001b[0m \u001b[1;31m#         print(list(sub_df.columns))\u001b[0m\u001b[1;33m\u001b[0m\u001b[1;33m\u001b[0m\u001b[1;33m\u001b[0m\u001b[0m\n\u001b[1;32m--> 162\u001b[1;33m         \u001b[0mportfolio_return\u001b[0m\u001b[1;33m,\u001b[0m\u001b[0mportfolio_risk\u001b[0m\u001b[1;33m,\u001b[0m\u001b[0mSharpR\u001b[0m \u001b[1;33m=\u001b[0m \u001b[0mcompute_portfolio_return\u001b[0m\u001b[1;33m(\u001b[0m\u001b[0msub_df\u001b[0m\u001b[1;33m,\u001b[0m\u001b[0mclustering\u001b[0m \u001b[1;33m=\u001b[0m \u001b[0mclustering\u001b[0m\u001b[1;33m,\u001b[0m\u001b[0minter_cluster_strategy\u001b[0m \u001b[1;33m=\u001b[0m\u001b[0minter_cluster_strategy\u001b[0m\u001b[1;33m,\u001b[0m\u001b[0mintra_cluster_strategy\u001b[0m \u001b[1;33m=\u001b[0m \u001b[0mintra_cluster_strategy\u001b[0m\u001b[1;33m)\u001b[0m\u001b[1;33m\u001b[0m\u001b[1;33m\u001b[0m\u001b[0m\n\u001b[0m\u001b[0;32m    163\u001b[0m         \u001b[0mprint\u001b[0m\u001b[1;33m(\u001b[0m\u001b[1;34m'portfolio nb: '\u001b[0m\u001b[1;33m,\u001b[0m\u001b[0mi\u001b[0m\u001b[1;33m,\u001b[0m \u001b[1;34m'return: '\u001b[0m\u001b[1;33m,\u001b[0m\u001b[0mportfolio_return\u001b[0m\u001b[1;33m)\u001b[0m\u001b[1;33m\u001b[0m\u001b[1;33m\u001b[0m\u001b[0m\n\u001b[0;32m    164\u001b[0m         \u001b[0mportfolio_returns\u001b[0m\u001b[1;33m.\u001b[0m\u001b[0mappend\u001b[0m\u001b[1;33m(\u001b[0m\u001b[0mportfolio_return\u001b[0m\u001b[1;33m)\u001b[0m\u001b[1;33m\u001b[0m\u001b[1;33m\u001b[0m\u001b[0m\n",
      "\u001b[1;32m<ipython-input-206-7a509d3548c6>\u001b[0m in \u001b[0;36mcompute_portfolio_return\u001b[1;34m(df, clustering, inter_cluster_strategy, intra_cluster_strategy)\u001b[0m\n\u001b[0;32m    105\u001b[0m \u001b[1;33m\u001b[0m\u001b[0m\n\u001b[0;32m    106\u001b[0m         \u001b[1;32melif\u001b[0m \u001b[0mclustering\u001b[0m \u001b[1;33m==\u001b[0m \u001b[1;34m'GiadaMarsili'\u001b[0m\u001b[1;33m:\u001b[0m\u001b[1;33m\u001b[0m\u001b[1;33m\u001b[0m\u001b[0m\n\u001b[1;32m--> 107\u001b[1;33m             \u001b[0mclusters\u001b[0m \u001b[1;33m=\u001b[0m \u001b[0maggregateClusters_\u001b[0m\u001b[1;33m(\u001b[0m\u001b[0mdf\u001b[0m\u001b[1;33m)\u001b[0m\u001b[1;33m\u001b[0m\u001b[1;33m\u001b[0m\u001b[0m\n\u001b[0m\u001b[0;32m    108\u001b[0m \u001b[1;33m\u001b[0m\u001b[0m\n\u001b[0;32m    109\u001b[0m         \u001b[0mcluster_means\u001b[0m \u001b[1;33m=\u001b[0m \u001b[0mcompute_clusters_returns\u001b[0m\u001b[1;33m(\u001b[0m\u001b[0mdf\u001b[0m\u001b[1;33m,\u001b[0m\u001b[0mclusters\u001b[0m\u001b[1;33m,\u001b[0m\u001b[0mintra_cluster_strategy\u001b[0m\u001b[1;33m)\u001b[0m\u001b[1;33m\u001b[0m\u001b[1;33m\u001b[0m\u001b[0m\n",
      "\u001b[1;32m<ipython-input-210-6cae39ab5ce1>\u001b[0m in \u001b[0;36maggregateClusters_\u001b[1;34m(R, aggregateClusters)\u001b[0m\n\u001b[0;32m     12\u001b[0m         \u001b[0mls_dfs\u001b[0m\u001b[1;33m.\u001b[0m\u001b[0mappend\u001b[0m\u001b[1;33m(\u001b[0m\u001b[0mdf\u001b[0m\u001b[1;33m)\u001b[0m\u001b[1;33m\u001b[0m\u001b[1;33m\u001b[0m\u001b[0m\n\u001b[0;32m     13\u001b[0m     \u001b[0mdf\u001b[0m \u001b[1;33m=\u001b[0m \u001b[0mpd\u001b[0m\u001b[1;33m.\u001b[0m\u001b[0mconcat\u001b[0m\u001b[1;33m(\u001b[0m\u001b[0mls_dfs\u001b[0m\u001b[1;33m)\u001b[0m\u001b[1;33m\u001b[0m\u001b[1;33m\u001b[0m\u001b[0m\n\u001b[1;32m---> 14\u001b[1;33m     \u001b[0mdf\u001b[0m\u001b[1;33m[\u001b[0m\u001b[1;34m'StockName'\u001b[0m\u001b[1;33m]\u001b[0m \u001b[1;33m=\u001b[0m \u001b[0mR\u001b[0m\u001b[1;33m.\u001b[0m\u001b[0mcolumns\u001b[0m\u001b[1;33m\u001b[0m\u001b[1;33m\u001b[0m\u001b[0m\n\u001b[0m\u001b[0;32m     15\u001b[0m     \u001b[0mdf\u001b[0m \u001b[1;33m=\u001b[0m \u001b[0mdf\u001b[0m\u001b[1;33m.\u001b[0m\u001b[0mreset_index\u001b[0m\u001b[1;33m(\u001b[0m\u001b[1;33m)\u001b[0m\u001b[1;33m\u001b[0m\u001b[1;33m\u001b[0m\u001b[0m\n\u001b[0;32m     16\u001b[0m     \u001b[0mdf\u001b[0m \u001b[1;33m=\u001b[0m \u001b[0mdf\u001b[0m\u001b[1;33m.\u001b[0m\u001b[0mdrop\u001b[0m\u001b[1;33m(\u001b[0m\u001b[0mcolumns\u001b[0m \u001b[1;33m=\u001b[0m \u001b[1;34m'index'\u001b[0m\u001b[1;33m)\u001b[0m\u001b[1;33m\u001b[0m\u001b[1;33m\u001b[0m\u001b[0m\n",
      "\u001b[1;32m~\\Anaconda3\\lib\\site-packages\\pandas\\core\\frame.py\u001b[0m in \u001b[0;36m__setitem__\u001b[1;34m(self, key, value)\u001b[0m\n\u001b[0;32m   3605\u001b[0m         \u001b[1;32melse\u001b[0m\u001b[1;33m:\u001b[0m\u001b[1;33m\u001b[0m\u001b[1;33m\u001b[0m\u001b[0m\n\u001b[0;32m   3606\u001b[0m             \u001b[1;31m# set column\u001b[0m\u001b[1;33m\u001b[0m\u001b[1;33m\u001b[0m\u001b[1;33m\u001b[0m\u001b[0m\n\u001b[1;32m-> 3607\u001b[1;33m             \u001b[0mself\u001b[0m\u001b[1;33m.\u001b[0m\u001b[0m_set_item\u001b[0m\u001b[1;33m(\u001b[0m\u001b[0mkey\u001b[0m\u001b[1;33m,\u001b[0m \u001b[0mvalue\u001b[0m\u001b[1;33m)\u001b[0m\u001b[1;33m\u001b[0m\u001b[1;33m\u001b[0m\u001b[0m\n\u001b[0m\u001b[0;32m   3608\u001b[0m \u001b[1;33m\u001b[0m\u001b[0m\n\u001b[0;32m   3609\u001b[0m     \u001b[1;32mdef\u001b[0m \u001b[0m_setitem_slice\u001b[0m\u001b[1;33m(\u001b[0m\u001b[0mself\u001b[0m\u001b[1;33m,\u001b[0m \u001b[0mkey\u001b[0m\u001b[1;33m:\u001b[0m \u001b[0mslice\u001b[0m\u001b[1;33m,\u001b[0m \u001b[0mvalue\u001b[0m\u001b[1;33m)\u001b[0m\u001b[1;33m:\u001b[0m\u001b[1;33m\u001b[0m\u001b[1;33m\u001b[0m\u001b[0m\n",
      "\u001b[1;32m~\\Anaconda3\\lib\\site-packages\\pandas\\core\\frame.py\u001b[0m in \u001b[0;36m_set_item\u001b[1;34m(self, key, value)\u001b[0m\n\u001b[0;32m   3777\u001b[0m         \u001b[0mensure\u001b[0m \u001b[0mhomogeneity\u001b[0m\u001b[1;33m.\u001b[0m\u001b[1;33m\u001b[0m\u001b[1;33m\u001b[0m\u001b[0m\n\u001b[0;32m   3778\u001b[0m         \"\"\"\n\u001b[1;32m-> 3779\u001b[1;33m         \u001b[0mvalue\u001b[0m \u001b[1;33m=\u001b[0m \u001b[0mself\u001b[0m\u001b[1;33m.\u001b[0m\u001b[0m_sanitize_column\u001b[0m\u001b[1;33m(\u001b[0m\u001b[0mvalue\u001b[0m\u001b[1;33m)\u001b[0m\u001b[1;33m\u001b[0m\u001b[1;33m\u001b[0m\u001b[0m\n\u001b[0m\u001b[0;32m   3780\u001b[0m \u001b[1;33m\u001b[0m\u001b[0m\n\u001b[0;32m   3781\u001b[0m         if (\n",
      "\u001b[1;32m~\\Anaconda3\\lib\\site-packages\\pandas\\core\\frame.py\u001b[0m in \u001b[0;36m_sanitize_column\u001b[1;34m(self, value)\u001b[0m\n\u001b[0;32m   4502\u001b[0m \u001b[1;33m\u001b[0m\u001b[0m\n\u001b[0;32m   4503\u001b[0m         \u001b[1;32mif\u001b[0m \u001b[0mis_list_like\u001b[0m\u001b[1;33m(\u001b[0m\u001b[0mvalue\u001b[0m\u001b[1;33m)\u001b[0m\u001b[1;33m:\u001b[0m\u001b[1;33m\u001b[0m\u001b[1;33m\u001b[0m\u001b[0m\n\u001b[1;32m-> 4504\u001b[1;33m             \u001b[0mcom\u001b[0m\u001b[1;33m.\u001b[0m\u001b[0mrequire_length_match\u001b[0m\u001b[1;33m(\u001b[0m\u001b[0mvalue\u001b[0m\u001b[1;33m,\u001b[0m \u001b[0mself\u001b[0m\u001b[1;33m.\u001b[0m\u001b[0mindex\u001b[0m\u001b[1;33m)\u001b[0m\u001b[1;33m\u001b[0m\u001b[1;33m\u001b[0m\u001b[0m\n\u001b[0m\u001b[0;32m   4505\u001b[0m         \u001b[1;32mreturn\u001b[0m \u001b[0msanitize_array\u001b[0m\u001b[1;33m(\u001b[0m\u001b[0mvalue\u001b[0m\u001b[1;33m,\u001b[0m \u001b[0mself\u001b[0m\u001b[1;33m.\u001b[0m\u001b[0mindex\u001b[0m\u001b[1;33m,\u001b[0m \u001b[0mcopy\u001b[0m\u001b[1;33m=\u001b[0m\u001b[1;32mTrue\u001b[0m\u001b[1;33m,\u001b[0m \u001b[0mallow_2d\u001b[0m\u001b[1;33m=\u001b[0m\u001b[1;32mTrue\u001b[0m\u001b[1;33m)\u001b[0m\u001b[1;33m\u001b[0m\u001b[1;33m\u001b[0m\u001b[0m\n\u001b[0;32m   4506\u001b[0m \u001b[1;33m\u001b[0m\u001b[0m\n",
      "\u001b[1;32m~\\Anaconda3\\lib\\site-packages\\pandas\\core\\common.py\u001b[0m in \u001b[0;36mrequire_length_match\u001b[1;34m(data, index)\u001b[0m\n\u001b[0;32m    526\u001b[0m     \u001b[1;32mif\u001b[0m \u001b[0mlen\u001b[0m\u001b[1;33m(\u001b[0m\u001b[0mdata\u001b[0m\u001b[1;33m)\u001b[0m \u001b[1;33m!=\u001b[0m \u001b[0mlen\u001b[0m\u001b[1;33m(\u001b[0m\u001b[0mindex\u001b[0m\u001b[1;33m)\u001b[0m\u001b[1;33m:\u001b[0m\u001b[1;33m\u001b[0m\u001b[1;33m\u001b[0m\u001b[0m\n\u001b[0;32m    527\u001b[0m         raise ValueError(\n\u001b[1;32m--> 528\u001b[1;33m             \u001b[1;34m\"Length of values \"\u001b[0m\u001b[1;33m\u001b[0m\u001b[1;33m\u001b[0m\u001b[0m\n\u001b[0m\u001b[0;32m    529\u001b[0m             \u001b[1;34mf\"({len(data)}) \"\u001b[0m\u001b[1;33m\u001b[0m\u001b[1;33m\u001b[0m\u001b[0m\n\u001b[0;32m    530\u001b[0m             \u001b[1;34m\"does not match length of index \"\u001b[0m\u001b[1;33m\u001b[0m\u001b[1;33m\u001b[0m\u001b[0m\n",
      "\u001b[1;31mValueError\u001b[0m: Length of values (65) does not match length of index (218)"
     ]
    }
   ],
   "source": [
    "print('strategy mean: ',compute_stategy_avg_return(DF,65,10,clustering = 'GiadaMarsili'))"
   ]
  },
  {
   "cell_type": "code",
   "execution_count": null,
   "metadata": {},
   "outputs": [],
   "source": [
    "print('strategy inv std: ',compute_stategy_avg_return(DF,65,10,inter_cluster_strategy ='equal weight',clustering = 'louvian',intra_cluster_strategy = 'equal weight'))"
   ]
  },
  {
   "cell_type": "code",
   "execution_count": null,
   "metadata": {
    "scrolled": true
   },
   "outputs": [],
   "source": [
    "print('strategy mean: ',compute_stategy_avg_return(DF,65,10,inter_cluster_strategy ='equal weight',clustering = 'louvian',intra_cluster_strategy = 'equal weight'))"
   ]
  },
  {
   "cell_type": "code",
   "execution_count": null,
   "metadata": {},
   "outputs": [],
   "source": [
    "print('strategy mean: ',compute_stategy_avg_return(DF,65,10,inter_cluster_strategy ='equal weight',clustering = 'louvian',intra_cluster_strategy = 'equal weight'))"
   ]
  },
  {
   "cell_type": "markdown",
   "metadata": {},
   "source": [
    "## Maximum likelihood clustering\n",
    "\n",
    "\n",
    "\n",
    "There is no code for this method in Python. The following shows how to call R from Python."
   ]
  },
  {
   "cell_type": "code",
   "execution_count": null,
   "metadata": {
    "scrolled": false
   },
   "outputs": [],
   "source": [
    "#!pip install rpy2 -U\n",
    "# first install R https://cran.rstudio.com/\n",
    "# # run this cell the first time you use rpy2 only.\n",
    "\n",
    "# from rpy2.robjects.packages import importr\n",
    "# utils = importr('utils')\n",
    "# utils.install_packages(\"data.table\")\n",
    " "
   ]
  },
  {
   "cell_type": "code",
   "execution_count": null,
   "metadata": {},
   "outputs": [],
   "source": [
    "DF=pd.read_parquet(\"us_equities_logreturns.parquet\")\n",
    "\n",
    "DF_cut=DF.iloc[-5000:]\n",
    "\n",
    "sel=DF_cut.isnull().sum(axis=0)>0\n",
    "DF_cut=DF_cut.drop(columns=DF_cut.columns[sel])\n"
   ]
  },
  {
   "cell_type": "code",
   "execution_count": 192,
   "metadata": {},
   "outputs": [],
   "source": [
    "import rpy2.robjects as robjects\n",
    "import rpy2.robjects.numpy2ri\n",
    "\n",
    "r = robjects.r\n",
    "rpy2.robjects.numpy2ri.activate()\n",
    "\n",
    "#importr(\"data.table\")\n",
    "\n",
    "newfunc = r.source(\"libClusteringGiadaMarsiliFast.R\")\n",
    "aggregateClusters=robjects.globalenv[\"aggregateClusters\"]"
   ]
  },
  {
   "cell_type": "code",
   "execution_count": 215,
   "metadata": {},
   "outputs": [],
   "source": [
    "def aggregateClusters_(R,aggregateClusters=aggregateClusters):\n",
    "    \"\"\"Slight modification to the original function taken from \"libClusteringGiadaMarsiliFast.R\" package.\n",
    "    The modification is made in order to simplify the use and to produce the output with the same format as\n",
    "    the previous clustering method\"\"\"\n",
    "    C = R.corr()\n",
    "    intermediate_result = aggregateClusters(C.values)\n",
    "    nb_clusters = len(intermediate_result[3])\n",
    "    ls_dfs = []\n",
    "    for i in range(nb_clusters):\n",
    "        df = pd.DataFrame(np.array(intermediate_result[3][i]),columns = ['Stock Name'])\n",
    "        df['Cluster'] = i\n",
    "        ls_dfs.append(df)\n",
    "    df = pd.concat(ls_dfs)\n",
    "    df['StockName'] = R.columns\n",
    "    df = df.reset_index()\n",
    "    df = df.drop(columns = 'index')\n",
    "    df = df.drop(columns = 'Stock Name')\n",
    "    df = df.rename({0: 'Cluster'},axis = 'columns')\n",
    "    df = df.set_index('StockName')\n",
    "\n",
    "    return df"
   ]
  },
  {
   "cell_type": "code",
   "execution_count": null,
   "metadata": {},
   "outputs": [],
   "source": [
    "display(aggregateClusters_(DF_cut))\n",
    "print('-------------------------------------------------------------------')\n",
    "display(LouvainCorrelationClustering(DF_cut))"
   ]
  },
  {
   "cell_type": "code",
   "execution_count": null,
   "metadata": {},
   "outputs": [],
   "source": []
  }
 ],
 "metadata": {
  "kernelspec": {
   "display_name": "Python 3",
   "language": "python",
   "name": "python3"
  },
  "language_info": {
   "codemirror_mode": {
    "name": "ipython",
    "version": 3
   },
   "file_extension": ".py",
   "mimetype": "text/x-python",
   "name": "python",
   "nbconvert_exporter": "python",
   "pygments_lexer": "ipython3",
   "version": "3.7.4"
  }
 },
 "nbformat": 4,
 "nbformat_minor": 2
}
