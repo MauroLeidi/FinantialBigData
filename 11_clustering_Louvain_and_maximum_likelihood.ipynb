{
 "cells": [
  {
   "cell_type": "code",
   "execution_count": 1,
   "metadata": {},
   "outputs": [],
   "source": [
    "from numpy import linalg as LA\n",
    "import numpy as np\n",
    "import pandas as pd\n",
    "import math\n",
    "import networkx as nx\n",
    "import community\n",
    "import community.community_louvain as community_louvain\n",
    "import matplotlib.pyplot as plt\n",
    "from pypfopt import EfficientFrontier\n",
    "from pypfopt import risk_models\n",
    "from pypfopt import expected_returns"
   ]
  },
  {
   "cell_type": "code",
   "execution_count": 2,
   "metadata": {},
   "outputs": [],
   "source": [
    "def compute_C_minus_C0(lambdas,v,lambda_plus):\n",
    "    N=len(lambdas)\n",
    "    C_clean=np.zeros((N, N))\n",
    "    \n",
    "    v_m=np.matrix(v)\n",
    "    \n",
    "    # TO CHECK: WHY N-1?!?!? isn't range enough to stop at N-1?!\n",
    "    # _s stands for _structure below: \n",
    "    for i in range(N-1):\n",
    "        if lambdas[i]>lambda_plus:\n",
    "            C_clean=C_clean+lambdas[i] * np.dot(v_m[:,i],v_m[:,i].T)  \n",
    "    return C_clean    \n",
    "    "
   ]
  },
  {
   "cell_type": "code",
   "execution_count": 3,
   "metadata": {},
   "outputs": [],
   "source": [
    "def LouvainCorrelationClustering(R):   # R is a matrix of return\n",
    "    \n",
    "    N=R.shape[1]\n",
    "    T=R.shape[0]\n",
    "\n",
    "    q=N*1./T\n",
    "    lambda_plus=(1.+np.sqrt(q))**2\n",
    "\n",
    "    C=R.corr()\n",
    "    lambdas, v = LA.eigh(C)\n",
    "\n",
    "    order = np.argsort(lambdas)\n",
    "    lambdas,v = lambdas[order],v[:,order]\n",
    "      \n",
    "    C_s=compute_C_minus_C0(lambdas,v,lambda_plus)\n",
    "    mygraph= nx.from_numpy_matrix(np.abs(C_s))\n",
    "    partition = community.community_louvain.best_partition(mygraph)\n",
    "    DF=pd.DataFrame.from_dict(partition,orient=\"index\")\n",
    "    DF['StockName'] = R.columns\n",
    "    DF = DF.reset_index()\n",
    "    DF = DF.drop(columns = 'index')\n",
    "    DF = DF.rename({0: 'Cluster'},axis = 'columns')\n",
    "    DF = DF.set_index('StockName')\n",
    "    return(DF)"
   ]
  },
  {
   "cell_type": "code",
   "execution_count": 4,
   "metadata": {
    "scrolled": true
   },
   "outputs": [],
   "source": [
    "# clust_louvain=LouvainCorrelationClustering(DF_cut)\n",
    "# print(clust_louvain)\n",
    "# print(clust_louvain.value_counts()) # 6 clusters"
   ]
  },
  {
   "cell_type": "code",
   "execution_count": 5,
   "metadata": {},
   "outputs": [
    {
     "data": {
      "text/html": [
       "<div>\n",
       "<style scoped>\n",
       "    .dataframe tbody tr th:only-of-type {\n",
       "        vertical-align: middle;\n",
       "    }\n",
       "\n",
       "    .dataframe tbody tr th {\n",
       "        vertical-align: top;\n",
       "    }\n",
       "\n",
       "    .dataframe thead th {\n",
       "        text-align: right;\n",
       "    }\n",
       "</style>\n",
       "<table border=\"1\" class=\"dataframe\">\n",
       "  <thead>\n",
       "    <tr style=\"text-align: right;\">\n",
       "      <th></th>\n",
       "      <th>^GSPC</th>\n",
       "      <th>GE</th>\n",
       "      <th>IBM</th>\n",
       "      <th>DIS</th>\n",
       "      <th>BA</th>\n",
       "      <th>CAT</th>\n",
       "      <th>AA</th>\n",
       "      <th>HPQ</th>\n",
       "      <th>DD</th>\n",
       "      <th>KO</th>\n",
       "      <th>...</th>\n",
       "      <th>NSM</th>\n",
       "      <th>CLP</th>\n",
       "      <th>CTX</th>\n",
       "      <th>CTR</th>\n",
       "      <th>DYN</th>\n",
       "      <th>AIB</th>\n",
       "      <th>KIM</th>\n",
       "      <th>SFN</th>\n",
       "      <th>TCO</th>\n",
       "      <th>S</th>\n",
       "    </tr>\n",
       "  </thead>\n",
       "  <tbody>\n",
       "    <tr>\n",
       "      <th>0</th>\n",
       "      <td>NaN</td>\n",
       "      <td>NaN</td>\n",
       "      <td>NaN</td>\n",
       "      <td>NaN</td>\n",
       "      <td>NaN</td>\n",
       "      <td>NaN</td>\n",
       "      <td>NaN</td>\n",
       "      <td>NaN</td>\n",
       "      <td>NaN</td>\n",
       "      <td>NaN</td>\n",
       "      <td>...</td>\n",
       "      <td>NaN</td>\n",
       "      <td>NaN</td>\n",
       "      <td>NaN</td>\n",
       "      <td>NaN</td>\n",
       "      <td>NaN</td>\n",
       "      <td>NaN</td>\n",
       "      <td>NaN</td>\n",
       "      <td>NaN</td>\n",
       "      <td>NaN</td>\n",
       "      <td>NaN</td>\n",
       "    </tr>\n",
       "    <tr>\n",
       "      <th>1</th>\n",
       "      <td>0.011340</td>\n",
       "      <td>NaN</td>\n",
       "      <td>NaN</td>\n",
       "      <td>NaN</td>\n",
       "      <td>NaN</td>\n",
       "      <td>NaN</td>\n",
       "      <td>NaN</td>\n",
       "      <td>NaN</td>\n",
       "      <td>NaN</td>\n",
       "      <td>NaN</td>\n",
       "      <td>...</td>\n",
       "      <td>NaN</td>\n",
       "      <td>NaN</td>\n",
       "      <td>NaN</td>\n",
       "      <td>NaN</td>\n",
       "      <td>NaN</td>\n",
       "      <td>NaN</td>\n",
       "      <td>NaN</td>\n",
       "      <td>NaN</td>\n",
       "      <td>NaN</td>\n",
       "      <td>NaN</td>\n",
       "    </tr>\n",
       "    <tr>\n",
       "      <th>2</th>\n",
       "      <td>0.004737</td>\n",
       "      <td>NaN</td>\n",
       "      <td>NaN</td>\n",
       "      <td>NaN</td>\n",
       "      <td>NaN</td>\n",
       "      <td>NaN</td>\n",
       "      <td>NaN</td>\n",
       "      <td>NaN</td>\n",
       "      <td>NaN</td>\n",
       "      <td>NaN</td>\n",
       "      <td>...</td>\n",
       "      <td>NaN</td>\n",
       "      <td>NaN</td>\n",
       "      <td>NaN</td>\n",
       "      <td>NaN</td>\n",
       "      <td>NaN</td>\n",
       "      <td>NaN</td>\n",
       "      <td>NaN</td>\n",
       "      <td>NaN</td>\n",
       "      <td>NaN</td>\n",
       "      <td>NaN</td>\n",
       "    </tr>\n",
       "    <tr>\n",
       "      <th>3</th>\n",
       "      <td>0.002949</td>\n",
       "      <td>NaN</td>\n",
       "      <td>NaN</td>\n",
       "      <td>NaN</td>\n",
       "      <td>NaN</td>\n",
       "      <td>NaN</td>\n",
       "      <td>NaN</td>\n",
       "      <td>NaN</td>\n",
       "      <td>NaN</td>\n",
       "      <td>NaN</td>\n",
       "      <td>...</td>\n",
       "      <td>NaN</td>\n",
       "      <td>NaN</td>\n",
       "      <td>NaN</td>\n",
       "      <td>NaN</td>\n",
       "      <td>NaN</td>\n",
       "      <td>NaN</td>\n",
       "      <td>NaN</td>\n",
       "      <td>NaN</td>\n",
       "      <td>NaN</td>\n",
       "      <td>NaN</td>\n",
       "    </tr>\n",
       "    <tr>\n",
       "      <th>4</th>\n",
       "      <td>0.005872</td>\n",
       "      <td>NaN</td>\n",
       "      <td>NaN</td>\n",
       "      <td>NaN</td>\n",
       "      <td>NaN</td>\n",
       "      <td>NaN</td>\n",
       "      <td>NaN</td>\n",
       "      <td>NaN</td>\n",
       "      <td>NaN</td>\n",
       "      <td>NaN</td>\n",
       "      <td>...</td>\n",
       "      <td>NaN</td>\n",
       "      <td>NaN</td>\n",
       "      <td>NaN</td>\n",
       "      <td>NaN</td>\n",
       "      <td>NaN</td>\n",
       "      <td>NaN</td>\n",
       "      <td>NaN</td>\n",
       "      <td>NaN</td>\n",
       "      <td>NaN</td>\n",
       "      <td>NaN</td>\n",
       "    </tr>\n",
       "    <tr>\n",
       "      <th>...</th>\n",
       "      <td>...</td>\n",
       "      <td>...</td>\n",
       "      <td>...</td>\n",
       "      <td>...</td>\n",
       "      <td>...</td>\n",
       "      <td>...</td>\n",
       "      <td>...</td>\n",
       "      <td>...</td>\n",
       "      <td>...</td>\n",
       "      <td>...</td>\n",
       "      <td>...</td>\n",
       "      <td>...</td>\n",
       "      <td>...</td>\n",
       "      <td>...</td>\n",
       "      <td>...</td>\n",
       "      <td>...</td>\n",
       "      <td>...</td>\n",
       "      <td>...</td>\n",
       "      <td>...</td>\n",
       "      <td>...</td>\n",
       "      <td>...</td>\n",
       "    </tr>\n",
       "    <tr>\n",
       "      <th>16150</th>\n",
       "      <td>0.000305</td>\n",
       "      <td>-0.005420</td>\n",
       "      <td>-0.002896</td>\n",
       "      <td>0.004063</td>\n",
       "      <td>-0.009916</td>\n",
       "      <td>-0.000207</td>\n",
       "      <td>-0.001642</td>\n",
       "      <td>-0.010756</td>\n",
       "      <td>0.006343</td>\n",
       "      <td>-0.000520</td>\n",
       "      <td>...</td>\n",
       "      <td>0.042972</td>\n",
       "      <td>NaN</td>\n",
       "      <td>0.001974</td>\n",
       "      <td>-0.001879</td>\n",
       "      <td>0.011547</td>\n",
       "      <td>0.003892</td>\n",
       "      <td>0.002334</td>\n",
       "      <td>0.011191</td>\n",
       "      <td>0.009188</td>\n",
       "      <td>0.000000</td>\n",
       "    </tr>\n",
       "    <tr>\n",
       "      <th>16151</th>\n",
       "      <td>-0.011770</td>\n",
       "      <td>-0.016439</td>\n",
       "      <td>-0.012537</td>\n",
       "      <td>-0.017978</td>\n",
       "      <td>-0.020624</td>\n",
       "      <td>-0.012576</td>\n",
       "      <td>-0.025803</td>\n",
       "      <td>-0.023249</td>\n",
       "      <td>-0.010898</td>\n",
       "      <td>-0.013082</td>\n",
       "      <td>...</td>\n",
       "      <td>-0.011131</td>\n",
       "      <td>NaN</td>\n",
       "      <td>0.007076</td>\n",
       "      <td>-0.006604</td>\n",
       "      <td>-0.008647</td>\n",
       "      <td>-0.001296</td>\n",
       "      <td>0.001863</td>\n",
       "      <td>0.001534</td>\n",
       "      <td>-0.000436</td>\n",
       "      <td>-0.018391</td>\n",
       "    </tr>\n",
       "    <tr>\n",
       "      <th>16152</th>\n",
       "      <td>-0.002826</td>\n",
       "      <td>-0.009118</td>\n",
       "      <td>-0.009232</td>\n",
       "      <td>0.001750</td>\n",
       "      <td>0.009959</td>\n",
       "      <td>-0.002304</td>\n",
       "      <td>-0.001688</td>\n",
       "      <td>0.005519</td>\n",
       "      <td>0.000913</td>\n",
       "      <td>0.005253</td>\n",
       "      <td>...</td>\n",
       "      <td>0.047769</td>\n",
       "      <td>NaN</td>\n",
       "      <td>0.007026</td>\n",
       "      <td>0.003307</td>\n",
       "      <td>0.008237</td>\n",
       "      <td>0.003020</td>\n",
       "      <td>0.001395</td>\n",
       "      <td>0.005350</td>\n",
       "      <td>-0.015368</td>\n",
       "      <td>0.018391</td>\n",
       "    </tr>\n",
       "    <tr>\n",
       "      <th>16153</th>\n",
       "      <td>0.009568</td>\n",
       "      <td>0.012663</td>\n",
       "      <td>0.019565</td>\n",
       "      <td>0.016351</td>\n",
       "      <td>0.018590</td>\n",
       "      <td>0.002931</td>\n",
       "      <td>0.005055</td>\n",
       "      <td>0.014005</td>\n",
       "      <td>0.009232</td>\n",
       "      <td>0.002616</td>\n",
       "      <td>...</td>\n",
       "      <td>-0.017531</td>\n",
       "      <td>NaN</td>\n",
       "      <td>0.003882</td>\n",
       "      <td>0.007987</td>\n",
       "      <td>0.002458</td>\n",
       "      <td>0.025942</td>\n",
       "      <td>0.000465</td>\n",
       "      <td>0.009860</td>\n",
       "      <td>0.000442</td>\n",
       "      <td>-0.001140</td>\n",
       "    </tr>\n",
       "    <tr>\n",
       "      <th>16154</th>\n",
       "      <td>0.007194</td>\n",
       "      <td>0.008614</td>\n",
       "      <td>0.005367</td>\n",
       "      <td>0.007345</td>\n",
       "      <td>-0.011064</td>\n",
       "      <td>0.007705</td>\n",
       "      <td>0.008368</td>\n",
       "      <td>0.035980</td>\n",
       "      <td>0.006307</td>\n",
       "      <td>0.003391</td>\n",
       "      <td>...</td>\n",
       "      <td>0.046083</td>\n",
       "      <td>NaN</td>\n",
       "      <td>0.006565</td>\n",
       "      <td>0.006065</td>\n",
       "      <td>-0.003689</td>\n",
       "      <td>-0.005473</td>\n",
       "      <td>0.004634</td>\n",
       "      <td>-0.004539</td>\n",
       "      <td>-0.001328</td>\n",
       "      <td>-0.010315</td>\n",
       "    </tr>\n",
       "  </tbody>\n",
       "</table>\n",
       "<p>16155 rows × 1012 columns</p>\n",
       "</div>"
      ],
      "text/plain": [
       "          ^GSPC        GE       IBM       DIS        BA       CAT        AA  \\\n",
       "0           NaN       NaN       NaN       NaN       NaN       NaN       NaN   \n",
       "1      0.011340       NaN       NaN       NaN       NaN       NaN       NaN   \n",
       "2      0.004737       NaN       NaN       NaN       NaN       NaN       NaN   \n",
       "3      0.002949       NaN       NaN       NaN       NaN       NaN       NaN   \n",
       "4      0.005872       NaN       NaN       NaN       NaN       NaN       NaN   \n",
       "...         ...       ...       ...       ...       ...       ...       ...   \n",
       "16150  0.000305 -0.005420 -0.002896  0.004063 -0.009916 -0.000207 -0.001642   \n",
       "16151 -0.011770 -0.016439 -0.012537 -0.017978 -0.020624 -0.012576 -0.025803   \n",
       "16152 -0.002826 -0.009118 -0.009232  0.001750  0.009959 -0.002304 -0.001688   \n",
       "16153  0.009568  0.012663  0.019565  0.016351  0.018590  0.002931  0.005055   \n",
       "16154  0.007194  0.008614  0.005367  0.007345 -0.011064  0.007705  0.008368   \n",
       "\n",
       "            HPQ        DD        KO  ...       NSM  CLP       CTX       CTR  \\\n",
       "0           NaN       NaN       NaN  ...       NaN  NaN       NaN       NaN   \n",
       "1           NaN       NaN       NaN  ...       NaN  NaN       NaN       NaN   \n",
       "2           NaN       NaN       NaN  ...       NaN  NaN       NaN       NaN   \n",
       "3           NaN       NaN       NaN  ...       NaN  NaN       NaN       NaN   \n",
       "4           NaN       NaN       NaN  ...       NaN  NaN       NaN       NaN   \n",
       "...         ...       ...       ...  ...       ...  ...       ...       ...   \n",
       "16150 -0.010756  0.006343 -0.000520  ...  0.042972  NaN  0.001974 -0.001879   \n",
       "16151 -0.023249 -0.010898 -0.013082  ... -0.011131  NaN  0.007076 -0.006604   \n",
       "16152  0.005519  0.000913  0.005253  ...  0.047769  NaN  0.007026  0.003307   \n",
       "16153  0.014005  0.009232  0.002616  ... -0.017531  NaN  0.003882  0.007987   \n",
       "16154  0.035980  0.006307  0.003391  ...  0.046083  NaN  0.006565  0.006065   \n",
       "\n",
       "            DYN       AIB       KIM       SFN       TCO         S  \n",
       "0           NaN       NaN       NaN       NaN       NaN       NaN  \n",
       "1           NaN       NaN       NaN       NaN       NaN       NaN  \n",
       "2           NaN       NaN       NaN       NaN       NaN       NaN  \n",
       "3           NaN       NaN       NaN       NaN       NaN       NaN  \n",
       "4           NaN       NaN       NaN       NaN       NaN       NaN  \n",
       "...         ...       ...       ...       ...       ...       ...  \n",
       "16150  0.011547  0.003892  0.002334  0.011191  0.009188  0.000000  \n",
       "16151 -0.008647 -0.001296  0.001863  0.001534 -0.000436 -0.018391  \n",
       "16152  0.008237  0.003020  0.001395  0.005350 -0.015368  0.018391  \n",
       "16153  0.002458  0.025942  0.000465  0.009860  0.000442 -0.001140  \n",
       "16154 -0.003689 -0.005473  0.004634 -0.004539 -0.001328 -0.010315  \n",
       "\n",
       "[16155 rows x 1012 columns]"
      ]
     },
     "metadata": {},
     "output_type": "display_data"
    },
    {
     "data": {
      "text/html": [
       "<div>\n",
       "<style scoped>\n",
       "    .dataframe tbody tr th:only-of-type {\n",
       "        vertical-align: middle;\n",
       "    }\n",
       "\n",
       "    .dataframe tbody tr th {\n",
       "        vertical-align: top;\n",
       "    }\n",
       "\n",
       "    .dataframe thead th {\n",
       "        text-align: right;\n",
       "    }\n",
       "</style>\n",
       "<table border=\"1\" class=\"dataframe\">\n",
       "  <thead>\n",
       "    <tr style=\"text-align: right;\">\n",
       "      <th></th>\n",
       "    </tr>\n",
       "  </thead>\n",
       "  <tbody>\n",
       "    <tr>\n",
       "      <th>0</th>\n",
       "    </tr>\n",
       "    <tr>\n",
       "      <th>1</th>\n",
       "    </tr>\n",
       "    <tr>\n",
       "      <th>2</th>\n",
       "    </tr>\n",
       "    <tr>\n",
       "      <th>3</th>\n",
       "    </tr>\n",
       "    <tr>\n",
       "      <th>4</th>\n",
       "    </tr>\n",
       "    <tr>\n",
       "      <th>...</th>\n",
       "    </tr>\n",
       "    <tr>\n",
       "      <th>16150</th>\n",
       "    </tr>\n",
       "    <tr>\n",
       "      <th>16151</th>\n",
       "    </tr>\n",
       "    <tr>\n",
       "      <th>16152</th>\n",
       "    </tr>\n",
       "    <tr>\n",
       "      <th>16153</th>\n",
       "    </tr>\n",
       "    <tr>\n",
       "      <th>16154</th>\n",
       "    </tr>\n",
       "  </tbody>\n",
       "</table>\n",
       "<p>16155 rows × 0 columns</p>\n",
       "</div>"
      ],
      "text/plain": [
       "Empty DataFrame\n",
       "Columns: []\n",
       "Index: [0, 1, 2, 3, 4, 5, 6, 7, 8, 9, 10, 11, 12, 13, 14, 15, 16, 17, 18, 19, 20, 21, 22, 23, 24, 25, 26, 27, 28, 29, 30, 31, 32, 33, 34, 35, 36, 37, 38, 39, 40, 41, 42, 43, 44, 45, 46, 47, 48, 49, 50, 51, 52, 53, 54, 55, 56, 57, 58, 59, 60, 61, 62, 63, 64, 65, 66, 67, 68, 69, 70, 71, 72, 73, 74, 75, 76, 77, 78, 79, 80, 81, 82, 83, 84, 85, 86, 87, 88, 89, 90, 91, 92, 93, 94, 95, 96, 97, 98, 99, ...]\n",
       "\n",
       "[16155 rows x 0 columns]"
      ]
     },
     "metadata": {},
     "output_type": "display_data"
    }
   ],
   "source": [
    "import numpy as np\n",
    "\n",
    "DF=pd.read_parquet(\"us_equities_logreturns.parquet\")\n",
    "\n",
    "DF_cut=DF\n",
    "display(DF)\n",
    "\n",
    "sel=DF_cut.isnull().sum(axis=0)>0\n",
    "DF_cut=DF_cut.drop(columns=DF_cut.columns[sel])\n",
    "display(DF_cut)"
   ]
  },
  {
   "cell_type": "code",
   "execution_count": 6,
   "metadata": {},
   "outputs": [
    {
     "name": "stdout",
     "output_type": "stream",
     "text": [
      "Index(['^GSPC', 'GE', 'IBM', 'DIS', 'BA', 'CAT', 'AA', 'HPQ', 'DD', 'KO',\n",
      "       ...\n",
      "       'NSM', 'CLP', 'CTX', 'CTR', 'DYN', 'AIB', 'KIM', 'SFN', 'TCO', 'S'],\n",
      "      dtype='object', length=1012)\n"
     ]
    },
    {
     "data": {
      "text/plain": [
       "[<matplotlib.lines.Line2D at 0x18d079ed448>]"
      ]
     },
     "execution_count": 6,
     "metadata": {},
     "output_type": "execute_result"
    },
    {
     "data": {
      "image/png": "[encoded data removed]",
      "text/plain": [
       "<Figure size 432x288 with 1 Axes>"
      ]
     },
     "metadata": {
      "needs_background": "light"
     },
     "output_type": "display_data"
    }
   ],
   "source": [
    "import matplotlib.pyplot as plt\n",
    "print(DF.columns)\n",
    "plt.plot(DF['IBM'].index, DF['IBM'])\n",
    "#The returns are daily because 16k/252 is around 60 years"
   ]
  },
  {
   "cell_type": "markdown",
   "metadata": {},
   "source": [
    "## Louvain clustering"
   ]
  },
  {
   "cell_type": "code",
   "execution_count": 96,
   "metadata": {},
   "outputs": [],
   "source": [
    "clust_louvain=LouvainCorrelationClustering(DF_cut)\n",
    "#print(clust_louvain)\n",
    "#print(clust_louvain.value_counts()) # 6 clusters\n",
    "\n",
    "def drop_nans(df,limit = 0.5):\n",
    "    \"\"\"given a dataframe and a limit value, first drops all the columns that have\n",
    "    more than limit % nans than drops all raws containing at least one nan value\"\"\"\n",
    "    row_num = df.shape[0]\n",
    "    nan_col = df.isnull().sum(axis=0)>(row_num*limit)\n",
    "    df=df.drop(columns=df.columns[nan_col])\n",
    "    return df.dropna()\n",
    "\n",
    "def pick_n_from_k(df,n,seed = 0,onlynames = False):\n",
    "    \"\"\"given a dataframe and a number N, returns a dataframe that \n",
    "    contains n randomly selected columns of the input dataframe\"\"\"\n",
    "    \n",
    "    k = df.shape[0]\n",
    "    \n",
    "    #safety check\n",
    "    assert k >= n, 'K should be >= N'\n",
    "    \n",
    "    #if onlynames is active return only the name of the columns\n",
    "    if onlynames:\n",
    "        random.seed(seed)\n",
    "        return random.sample(list(df.columns), n)\n",
    "    return df.sample(n=n, random_state=seed, axis='columns')\n",
    "\n",
    "def bootstrap_CI(data, nbr_draws):\n",
    "    \"\"\"Given an array and a number of random samples performs bootstrapping to\n",
    "    find the confidence intervals of the mean\"\"\"\n",
    "    # Input: your array and the number of random samples (e.g., 1000 is a good number)\n",
    "    # Output: [lower error, upper error]\n",
    "\n",
    "    means = np.zeros(nbr_draws)\n",
    "    data = np.array(data)\n",
    "\n",
    "    for n in range(nbr_draws):\n",
    "        indices = np.random.randint(0, len(data), len(data))\n",
    "        data_tmp = data[indices] \n",
    "        means[n] = np.nanmean(data_tmp)\n",
    "\n",
    "    return [np.nanpercentile(means, 0.5),np.nanpercentile(means, 99.5)]\n",
    "\n",
    "def optimalWeights(df,verbose = False,shortBan = True):\n",
    "    \"\"\"use pypfopt to compute the optimal weights of the portfolio following markovitz strategy\"\"\"\n",
    "    mu = expected_returns.mean_historical_return(df,returns_data=True,log_returns =True)\n",
    "    S = risk_models.sample_cov(df,returns_data=True,log_returns =True)\n",
    "    if shortBan:\n",
    "        #By default the ef is long only \n",
    "        ef = EfficientFrontier(mu, S)\n",
    "    else:\n",
    "        #Allow negative weights => No shortBan\n",
    "        ef = EfficientFrontier(mu, S, weight_bounds=(-1, 1))\n",
    "    #We could limit the maxweight just by changing the bounds ex: max 10% with shortban weight_bounds=(0, 0.1)\n",
    "    raw_weights = ef.max_sharpe()\n",
    "    cleaned_weights = ef.clean_weights()\n",
    "    if verbose:\n",
    "        return ef.portfolio_performance(verbose=False)\n",
    "    return cleaned_weights\n",
    "\n",
    "def weight_inverse_std(df):\n",
    "    sum_stds = 0\n",
    "    cluster = df['Cluster'].iloc[0]\n",
    "    df = df.drop(columns = ['Cluster']).transpose()\n",
    "    for col in df.columns:\n",
    "        if col != 'Cluster':\n",
    "            sum_stds += df[col].std()\n",
    "    for col in df.columns:\n",
    "        if col != 'Cluster':\n",
    "            df[col] = df[col]*df[col].std()/sum_stds\n",
    "    df = df.mean(axis = 1)\n",
    "    df = df.transpose()\n",
    "    df['Cluster'] = cluster\n",
    "    #df = df.transpose()\n",
    "    return df\n",
    "\n",
    "def compute_clusters_returns(df,clusters,strategy = 'equal weight'):\n",
    "    \"\"\"given a dataframe and his clusters compute the clusters means\"\"\"\n",
    "    \n",
    "    if strategy == 'equal weight':\n",
    "        means = df.transpose()\n",
    "        means = pd.merge(means, clusters,left_index = True, right_on='StockName')\n",
    "        means = means.groupby('Cluster').mean().transpose()\n",
    "    elif strategy == 'inverse std':\n",
    "        #TO DO: test this method\n",
    "        dftr = df.transpose()\n",
    "        dftr = pd.merge(dftr, clusters,left_index = True, right_on='StockName')\n",
    "        means = dftr.groupby('Cluster').apply(lambda x: weight_inverse_std(x))\n",
    "        means = means.drop(columns = ['Cluster']).transpose()\n",
    "    return means\n",
    "\n",
    "def compute_portfolio_return(df,clustering = 'louvian',strategy ='equal weight'):\n",
    "    \"\"\"given a dataframe, a clustering method and a portfolio weighting strategy\n",
    "    compute the return of the portfolio composed by appling clustering than combining\n",
    "    the clusters using the strategy\"\"\"\n",
    "    if strategy == 'equal weight':\n",
    "        \n",
    "        if clustering == 'louvian':\n",
    "            clusters = LouvainCorrelationClustering(df)\n",
    "            cluster_means = compute_clusters_returns(df,clusters)\n",
    "            portfolio_mean = cluster_means.mean().mean()\n",
    "            portfolio_std = cluster_means.mean(axis = 1).std()\n",
    "            portfolio_std = np.exp((portfolio_std)*252)-1\n",
    "            portfolio_mean = np.exp((portfolio_mean)*252)-1\n",
    "            SharpR = portfolio_mean/portfolio_std\n",
    "            return portfolio_mean,portfolio_std,SharpR\n",
    "        \n",
    "    elif strategy == 'inverse std':\n",
    "        \n",
    "        if clustering == 'louvian':\n",
    "            clusters = LouvainCorrelationClustering(df)\n",
    "            cluster_means = compute_clusters_returns(df,clusters)\n",
    "            cluster_std = cluster_means.std()\n",
    "            weights = np.array([ i/sum(list(cluster_std)) for i in list(cluster_std)]).T\n",
    "            # I dont know if I can do the mean before or not maybe it changes if variables are dependent\n",
    "            portfolio_mean = (np.array(cluster_means)@weights).mean()\n",
    "            portfolio_std = (np.array(cluster_means)@weights).std()\n",
    "            portfolio_std = np.exp((portfolio_std)*252)-1\n",
    "            portfolio_mean = np.exp((portfolio_mean)*252)-1\n",
    "            SharpR = portfolio_mean/portfolio_std\n",
    "            return portfolio_mean,portfolio_std,SharpR\n",
    "        \n",
    "    elif strategy == 'markovitz':\n",
    "        \n",
    "        if clustering == 'louvian':\n",
    "            clusters = LouvainCorrelationClustering(df)\n",
    "            cluster_means = compute_clusters_returns(df,clusters)\n",
    "            portfolio_mean, portfolio_std, SharpR = optimalWeights(df,verbose = True)\n",
    "            return portfolio_mean,portfolio_std,SharpR\n",
    "        \n",
    "        #no clustering only markovitz portfolio\n",
    "        elif clustering == 'NO clustering':\n",
    "            portfolio_mean, portfolio_std, SharpR = optimalWeights(df,verbose = True)\n",
    "            return portfolio_mean,portfolio_std,SharpR       \n",
    "            \n",
    "def compute_stategy_avg_return(df,n,n_picks,clustering = 'louvian',strategy ='equal weight'):\n",
    "    \"\"\"given a dataframe, a number of picks, a size n, a clustering method and a portfolio weighting strategy\n",
    "    compute the average return of n_picks portfolios composed picking at random n stocks from the df,\n",
    "    applying clustering and combining with the weight strategy\"\"\"\n",
    "    portfolio_returns = []\n",
    "    portfolio_risks = []\n",
    "    portfolio_sharpRs = []\n",
    "    for i in range(n_picks):\n",
    "        sub_df = pick_n_from_k(df,n,seed = (i+1))\n",
    "#         print(list(sub_df.columns))\n",
    "        portfolio_return,portfolio_risk,SharpR = compute_portfolio_return(sub_df,clustering = clustering,strategy = strategy)\n",
    "        print('portfolio nb: ',i, 'return: ',portfolio_return)\n",
    "        portfolio_returns.append(portfolio_return)\n",
    "        portfolio_risks.append(portfolio_risk)\n",
    "        portfolio_sharpRs.append(SharpR)\n",
    "    portfolio_returns_mean = sum(portfolio_returns)/len(portfolio_returns)\n",
    "    CI = bootstrap_CI(portfolio_returns,int(n_picks/1.5))\n",
    "    yerr = [-(CI[0]-portfolio_returns_mean),CI[1]-portfolio_returns_mean]\n",
    "#     print(portfolio_returns_mean)\n",
    "    plt.errorbar(1,portfolio_returns_mean,yerr = np.array(yerr).reshape(2,1), fmt='.', ecolor = 'red')\n",
    "    plt.ylabel(\"Mean return of clustering method :\" + clustering +' ' + strategy)\n",
    "    plt.title(\"Mean return of clustering method with confidence intervals\")\n",
    "    return portfolio_returns,portfolio_risks,portfolio_sharpRs"
   ]
  },
  {
   "cell_type": "code",
   "execution_count": 97,
   "metadata": {},
   "outputs": [],
   "source": [
    "DF=pd.read_parquet(\"us_equities_logreturns.parquet\")\n",
    "\n",
    "DF = drop_nans(DF)\n",
    "#display(DF)"
   ]
  },
  {
   "cell_type": "code",
   "execution_count": 98,
   "metadata": {},
   "outputs": [
    {
     "name": "stdout",
     "output_type": "stream",
     "text": [
      "portfolio nb:  0 return:  0.12637960062385645\n",
      "portfolio nb:  1 return:  0.11914580532428087\n",
      "portfolio nb:  2 return:  0.14156995182531262\n",
      "portfolio nb:  3 return:  0.13538660731143448\n",
      "portfolio nb:  4 return:  0.13415715947271334\n",
      "portfolio nb:  5 return:  0.134883335237447\n",
      "portfolio nb:  6 return:  0.1353595711686839\n",
      "portfolio nb:  7 return:  0.13231161538231873\n",
      "portfolio nb:  8 return:  0.13302407019377505\n",
      "portfolio nb:  9 return:  0.1308447821469192\n",
      "strategy mean:  ([0.12637960062385645, 0.11914580532428087, 0.14156995182531262, 0.13538660731143448, 0.13415715947271334, 0.134883335237447, 0.1353595711686839, 0.13231161538231873, 0.13302407019377505, 0.1308447821469192], [14.722878754348997, 16.27426582462073, 14.359912732167588, 13.632121163894226, 13.96431786688257, 13.566603102032147, 13.47657292068975, 14.809355446394035, 13.786830363900648, 14.682559919808913], [0.008583891963827056, 0.007321117069627167, 0.009858691655429234, 0.009931441019613062, 0.009607140194858864, 0.009942307165840414, 0.010044064760772728, 0.008934326403417889, 0.00964863327411966, 0.008911578284818747])\n"
     ]
    },
    {
     "data": {
      "image/png": "[encoded data removed]",
      "text/plain": [
       "<Figure size 432x288 with 1 Axes>"
      ]
     },
     "metadata": {
      "needs_background": "light"
     },
     "output_type": "display_data"
    }
   ],
   "source": [
    "print('strategy mean: ',compute_stategy_avg_return(DF,65,10))"
   ]
  },
  {
   "cell_type": "code",
   "execution_count": 99,
   "metadata": {},
   "outputs": [
    {
     "name": "stdout",
     "output_type": "stream",
     "text": [
      "portfolio nb:  0 return:  0.12397978143036648\n",
      "portfolio nb:  1 return:  0.11998681543493572\n",
      "portfolio nb:  2 return:  0.14082328089426777\n",
      "portfolio nb:  3 return:  0.13221565717787698\n",
      "portfolio nb:  4 return:  0.12893337413805273\n",
      "portfolio nb:  5 return:  0.1332924016710011\n",
      "portfolio nb:  6 return:  0.13541789768726176\n",
      "portfolio nb:  7 return:  0.13094714413053676\n",
      "portfolio nb:  8 return:  0.1305287263019217\n",
      "portfolio nb:  9 return:  0.12824116504044758\n",
      "strategy inv std:  ([0.12397978143036648, 0.11998681543493572, 0.14082328089426777, 0.13221565717787698, 0.12893337413805273, 0.1332924016710011, 0.13541789768726176, 0.13094714413053676, 0.1305287263019217, 0.12824116504044758], [15.53472006332034, 16.06150485228736, 14.449344698966193, 14.250656009626669, 14.807681894869846, 13.822093808289914, 13.567805215037996, 14.996496857074366, 14.079490012499027, 15.135569710948484], [0.007980818510086975, 0.007470459121882847, 0.009745997747866258, 0.00927786461820158, 0.008707195025760377, 0.009643430548203767, 0.009980825604510458, 0.008731848869675485, 0.009270841925811601, 0.008472833695033157])\n"
     ]
    },
    {
     "data": {
      "image/png": "[encoded data removed]",
      "text/plain": [
       "<Figure size 432x288 with 1 Axes>"
      ]
     },
     "metadata": {
      "needs_background": "light"
     },
     "output_type": "display_data"
    }
   ],
   "source": [
    "print('strategy inv std: ',compute_stategy_avg_return(DF,65,10,strategy = 'inverse std'))"
   ]
  },
  {
   "cell_type": "code",
   "execution_count": 100,
   "metadata": {
    "scrolled": true
   },
   "outputs": [
    {
     "name": "stdout",
     "output_type": "stream",
     "text": [
      "portfolio nb:  0 return:  0.1524700176827279\n",
      "portfolio nb:  1 return:  0.204080508460139\n",
      "portfolio nb:  2 return:  0.19716021174467618\n",
      "portfolio nb:  3 return:  0.20204718865647003\n",
      "portfolio nb:  4 return:  0.19574706489851992\n",
      "portfolio nb:  5 return:  0.17414663073154096\n",
      "portfolio nb:  6 return:  0.1717986651094257\n",
      "portfolio nb:  7 return:  0.19490158192475046\n",
      "portfolio nb:  8 return:  0.19600623823939545\n",
      "portfolio nb:  9 return:  0.17358232688575934\n",
      "strategy mean:  ([0.1524700176827279, 0.204080508460139, 0.19716021174467618, 0.20204718865647003, 0.19574706489851992, 0.17414663073154096, 0.1717986651094257, 0.19490158192475046, 0.19600623823939545, 0.17358232688575934], [0.1698420117057522, 0.1904378220849692, 0.17400978313261703, 0.17868570945690182, 0.17183823881242027, 0.16630725002733815, 0.17228590017736348, 0.17613875128952955, 0.17383351464328708, 0.17408372899078015], [0.7799602486587918, 0.966617379072978, 1.0181048936177235, 1.018812244190009, 1.0227471260943646, 0.9268785979336549, 0.8810858285742088, 0.9929761659162357, 1.0124988762987785, 0.8822325198117361])\n"
     ]
    },
    {
     "data": {
      "image/png": "[encoded data removed]",
      "text/plain": [
       "<Figure size 432x288 with 1 Axes>"
      ]
     },
     "metadata": {
      "needs_background": "light"
     },
     "output_type": "display_data"
    }
   ],
   "source": [
    "print('strategy mean: ',compute_stategy_avg_return(DF,65,10,strategy = 'markovitz'))"
   ]
  },
  {
   "cell_type": "code",
   "execution_count": 101,
   "metadata": {},
   "outputs": [
    {
     "name": "stdout",
     "output_type": "stream",
     "text": [
      "portfolio nb:  0 return:  0.1524700176827279\n",
      "portfolio nb:  1 return:  0.204080508460139\n",
      "portfolio nb:  2 return:  0.19716021174467618\n",
      "portfolio nb:  3 return:  0.20204718865647003\n",
      "portfolio nb:  4 return:  0.19574706489851992\n",
      "portfolio nb:  5 return:  0.17414663073154096\n",
      "portfolio nb:  6 return:  0.1717986651094257\n",
      "portfolio nb:  7 return:  0.19490158192475046\n",
      "portfolio nb:  8 return:  0.19600623823939545\n",
      "portfolio nb:  9 return:  0.17358232688575934\n",
      "strategy mean:  ([0.1524700176827279, 0.204080508460139, 0.19716021174467618, 0.20204718865647003, 0.19574706489851992, 0.17414663073154096, 0.1717986651094257, 0.19490158192475046, 0.19600623823939545, 0.17358232688575934], [0.1698420117057522, 0.1904378220849692, 0.17400978313261703, 0.17868570945690182, 0.17183823881242027, 0.16630725002733815, 0.17228590017736348, 0.17613875128952955, 0.17383351464328708, 0.17408372899078015], [0.7799602486587918, 0.966617379072978, 1.0181048936177235, 1.018812244190009, 1.0227471260943646, 0.9268785979336549, 0.8810858285742088, 0.9929761659162357, 1.0124988762987785, 0.8822325198117361])\n"
     ]
    },
    {
     "data": {
      "image/png": "[encoded data removed]",
      "text/plain": [
       "<Figure size 432x288 with 1 Axes>"
      ]
     },
     "metadata": {
      "needs_background": "light"
     },
     "output_type": "display_data"
    }
   ],
   "source": [
    "print('strategy mean: ',compute_stategy_avg_return(DF,65,10,clustering = 'NO clustering',strategy = 'markovitz'))"
   ]
  },
  {
   "cell_type": "markdown",
   "metadata": {},
   "source": [
    "## Maximum likelihood clustering\n",
    "\n",
    "\n",
    "\n",
    "There is no code for this method in Python. The following shows how to call R from Python."
   ]
  },
  {
   "cell_type": "code",
   "execution_count": 76,
   "metadata": {},
   "outputs": [
    {
     "name": "stdout",
     "output_type": "stream",
     "text": [
      "Requirement already up-to-date: rpy2 in c:\\users\\mauro\\anaconda3\\lib\\site-packages (3.4.5)\n",
      "Requirement already satisfied, skipping upgrade: cffi>=1.10.0 in c:\\users\\mauro\\anaconda3\\lib\\site-packages (from rpy2) (1.12.3)\n",
      "Requirement already satisfied, skipping upgrade: pytz in c:\\users\\mauro\\anaconda3\\lib\\site-packages (from rpy2) (2019.3)\n",
      "Requirement already satisfied, skipping upgrade: tzlocal in c:\\users\\mauro\\anaconda3\\lib\\site-packages (from rpy2) (2.0.0)\n",
      "Requirement already satisfied, skipping upgrade: jinja2 in c:\\users\\mauro\\anaconda3\\lib\\site-packages (from rpy2) (2.10.3)\n",
      "Requirement already satisfied, skipping upgrade: pycparser in c:\\users\\mauro\\anaconda3\\lib\\site-packages (from cffi>=1.10.0->rpy2) (2.19)\n",
      "Requirement already satisfied, skipping upgrade: MarkupSafe>=0.23 in c:\\users\\mauro\\anaconda3\\lib\\site-packages (from jinja2->rpy2) (1.1.1)\n"
     ]
    }
   ],
   "source": [
    "!pip install rpy2 -U"
   ]
  },
  {
   "cell_type": "code",
   "execution_count": 77,
   "metadata": {
    "scrolled": false
   },
   "outputs": [
    {
     "name": "stdout",
     "output_type": "stream",
     "text": [
      "--- Per piacere, seleziona un mirror CRAN per la sessione ---\n"
     ]
    },
    {
     "name": "stderr",
     "output_type": "stream",
     "text": [
      "From cffi callback <function _consolewrite_ex at 0x00000183501BB828>:\n",
      "Traceback (most recent call last):\n",
      "  File \"C:\\Users\\mauro\\Anaconda3\\lib\\site-packages\\rpy2\\rinterface_lib\\callbacks.py\", line 132, in _consolewrite_ex\n",
      "    s = conversion._cchar_to_str_with_maxlen(buf, n, _CCHAR_ENCODING)\n",
      "  File \"C:\\Users\\mauro\\Anaconda3\\lib\\site-packages\\rpy2\\rinterface_lib\\conversion.py\", line 133, in _cchar_to_str_with_maxlen\n",
      "    s = ffi.string(c, maxlen).decode(encoding)\n",
      "UnicodeDecodeError: 'utf-8' codec can't decode byte 0xe9 in position 78: invalid continuation byte\n",
      "R[write to console]: trying URL 'https://stat.ethz.ch/CRAN/bin/windows/contrib/4.1/data.table_1.14.2.zip'\n",
      "\n",
      "R[write to console]: Content type 'application/zip'\n",
      "R[write to console]:  length 2600662 bytes (2.5 MB)\n",
      "\n",
      "R[write to console]: downloaded 2.5 MB\n",
      "\n",
      "\n"
     ]
    },
    {
     "name": "stdout",
     "output_type": "stream",
     "text": [
      "package 'data.table' successfully unpacked and MD5 sums checked\n"
     ]
    },
    {
     "name": "stderr",
     "output_type": "stream",
     "text": [
      "R[write to console]: Warning:\n",
      "R[write to console]:  cannot remove prior installation of package 'data.table'\n",
      "\n",
      "R[write to console]: Warning:\n",
      "R[write to console]:  restored 'data.table'\n",
      "\n"
     ]
    },
    {
     "name": "stdout",
     "output_type": "stream",
     "text": [
      "\n",
      "The downloaded binary packages are in\n",
      "\tC:\\Users\\mauro\\AppData\\Local\\Temp\\RtmpIDP8UX\\downloaded_packages\n"
     ]
    },
    {
     "data": {
      "text/plain": [
       "<rpy2.rinterface_lib.sexp.NULLType object at 0x00000183502A1F08> [RTYPES.NILSXP]"
      ]
     },
     "execution_count": 77,
     "metadata": {},
     "output_type": "execute_result"
    }
   ],
   "source": [
    "# first install R https://cran.rstudio.com/\n",
    "# # run this cell the first time you use rpy2 only.\n",
    "\n",
    "from rpy2.robjects.packages import importr\n",
    "utils = importr('utils')\n",
    "utils.install_packages(\"data.table\")\n",
    " "
   ]
  },
  {
   "cell_type": "code",
   "execution_count": 78,
   "metadata": {},
   "outputs": [
    {
     "name": "stderr",
     "output_type": "stream",
     "text": [
      "R[write to console]: Error in file(filename, \"r\", encoding = encoding) : \n",
      "  cannot open the connection\n",
      "\n",
      "R[write to console]: In addition: \n",
      "R[write to console]: Warning messages:\n",
      "\n",
      "R[write to console]: 1: \n",
      "R[write to console]: In file.copy(savedcopy, lib, recursive = TRUE) :\n",
      "R[write to console]: \n",
      " \n",
      "R[write to console]:  problem copying C:\\Users\\mauro\\Documents\\R\\win-library\\4.1\\00LOCK\\data.table\\libs\\x64\\datatable.dll to C:\\Users\\mauro\\Documents\\R\\win-library\\4.1\\data.table\\libs\\x64\\datatable.dll: Permission denied\n",
      "\n",
      "R[write to console]: 2: \n",
      "R[write to console]: In file(filename, \"r\", encoding = encoding) :\n",
      "R[write to console]: \n",
      " \n",
      "R[write to console]:  cannot open file 'libClusteringGiadaMarsiliFast.R': No such file or directory\n",
      "\n"
     ]
    },
    {
     "ename": "RRuntimeError",
     "evalue": "Error in file(filename, \"r\", encoding = encoding) : \n  cannot open the connection\n",
     "output_type": "error",
     "traceback": [
      "\u001b[1;31m---------------------------------------------------------------------------\u001b[0m",
      "\u001b[1;31mRRuntimeError\u001b[0m                             Traceback (most recent call last)",
      "\u001b[1;32m<ipython-input-78-51cd7f37deb7>\u001b[0m in \u001b[0;36m<module>\u001b[1;34m\u001b[0m\n\u001b[0;32m      3\u001b[0m \u001b[1;33m\u001b[0m\u001b[0m\n\u001b[0;32m      4\u001b[0m \u001b[1;31m#importr(\"data.table\")\u001b[0m\u001b[1;33m\u001b[0m\u001b[1;33m\u001b[0m\u001b[1;33m\u001b[0m\u001b[0m\n\u001b[1;32m----> 5\u001b[1;33m \u001b[0mnewfunc\u001b[0m \u001b[1;33m=\u001b[0m \u001b[0mr\u001b[0m\u001b[1;33m.\u001b[0m\u001b[0msource\u001b[0m\u001b[1;33m(\u001b[0m\u001b[1;34m\"\"\"libClusteringGiadaMarsiliFast.R\"\"\"\u001b[0m\u001b[1;33m)\u001b[0m\u001b[1;33m\u001b[0m\u001b[1;33m\u001b[0m\u001b[0m\n\u001b[0m\u001b[0;32m      6\u001b[0m \u001b[0maggregateClusters\u001b[0m\u001b[1;33m=\u001b[0m\u001b[0mrobjects\u001b[0m\u001b[1;33m.\u001b[0m\u001b[0mglobalenv\u001b[0m\u001b[1;33m[\u001b[0m\u001b[1;34m\"aggregateClusters\"\u001b[0m\u001b[1;33m]\u001b[0m   \u001b[1;31m# now aggregateClusters is a Python function\u001b[0m\u001b[1;33m\u001b[0m\u001b[1;33m\u001b[0m\u001b[0m\n",
      "\u001b[1;32m~\\Anaconda3\\lib\\site-packages\\rpy2\\robjects\\functions.py\u001b[0m in \u001b[0;36m__call__\u001b[1;34m(self, *args, **kwargs)\u001b[0m\n\u001b[0;32m    197\u001b[0m                 \u001b[0mkwargs\u001b[0m\u001b[1;33m[\u001b[0m\u001b[0mr_k\u001b[0m\u001b[1;33m]\u001b[0m \u001b[1;33m=\u001b[0m \u001b[0mv\u001b[0m\u001b[1;33m\u001b[0m\u001b[1;33m\u001b[0m\u001b[0m\n\u001b[0;32m    198\u001b[0m         return (super(SignatureTranslatedFunction, self)\n\u001b[1;32m--> 199\u001b[1;33m                 .__call__(*args, **kwargs))\n\u001b[0m\u001b[0;32m    200\u001b[0m \u001b[1;33m\u001b[0m\u001b[0m\n\u001b[0;32m    201\u001b[0m \u001b[1;33m\u001b[0m\u001b[0m\n",
      "\u001b[1;32m~\\Anaconda3\\lib\\site-packages\\rpy2\\robjects\\functions.py\u001b[0m in \u001b[0;36m__call__\u001b[1;34m(self, *args, **kwargs)\u001b[0m\n\u001b[0;32m    123\u001b[0m             \u001b[1;32melse\u001b[0m\u001b[1;33m:\u001b[0m\u001b[1;33m\u001b[0m\u001b[1;33m\u001b[0m\u001b[0m\n\u001b[0;32m    124\u001b[0m                 \u001b[0mnew_kwargs\u001b[0m\u001b[1;33m[\u001b[0m\u001b[0mk\u001b[0m\u001b[1;33m]\u001b[0m \u001b[1;33m=\u001b[0m \u001b[0mconversion\u001b[0m\u001b[1;33m.\u001b[0m\u001b[0mpy2rpy\u001b[0m\u001b[1;33m(\u001b[0m\u001b[0mv\u001b[0m\u001b[1;33m)\u001b[0m\u001b[1;33m\u001b[0m\u001b[1;33m\u001b[0m\u001b[0m\n\u001b[1;32m--> 125\u001b[1;33m         \u001b[0mres\u001b[0m \u001b[1;33m=\u001b[0m \u001b[0msuper\u001b[0m\u001b[1;33m(\u001b[0m\u001b[0mFunction\u001b[0m\u001b[1;33m,\u001b[0m \u001b[0mself\u001b[0m\u001b[1;33m)\u001b[0m\u001b[1;33m.\u001b[0m\u001b[0m__call__\u001b[0m\u001b[1;33m(\u001b[0m\u001b[1;33m*\u001b[0m\u001b[0mnew_args\u001b[0m\u001b[1;33m,\u001b[0m \u001b[1;33m**\u001b[0m\u001b[0mnew_kwargs\u001b[0m\u001b[1;33m)\u001b[0m\u001b[1;33m\u001b[0m\u001b[1;33m\u001b[0m\u001b[0m\n\u001b[0m\u001b[0;32m    126\u001b[0m         \u001b[0mres\u001b[0m \u001b[1;33m=\u001b[0m \u001b[0mconversion\u001b[0m\u001b[1;33m.\u001b[0m\u001b[0mrpy2py\u001b[0m\u001b[1;33m(\u001b[0m\u001b[0mres\u001b[0m\u001b[1;33m)\u001b[0m\u001b[1;33m\u001b[0m\u001b[1;33m\u001b[0m\u001b[0m\n\u001b[0;32m    127\u001b[0m         \u001b[1;32mreturn\u001b[0m \u001b[0mres\u001b[0m\u001b[1;33m\u001b[0m\u001b[1;33m\u001b[0m\u001b[0m\n",
      "\u001b[1;32m~\\Anaconda3\\lib\\site-packages\\rpy2\\rinterface_lib\\conversion.py\u001b[0m in \u001b[0;36m_\u001b[1;34m(*args, **kwargs)\u001b[0m\n\u001b[0;32m     43\u001b[0m \u001b[1;32mdef\u001b[0m \u001b[0m_cdata_res_to_rinterface\u001b[0m\u001b[1;33m(\u001b[0m\u001b[0mfunction\u001b[0m\u001b[1;33m)\u001b[0m\u001b[1;33m:\u001b[0m\u001b[1;33m\u001b[0m\u001b[1;33m\u001b[0m\u001b[0m\n\u001b[0;32m     44\u001b[0m     \u001b[1;32mdef\u001b[0m \u001b[0m_\u001b[0m\u001b[1;33m(\u001b[0m\u001b[1;33m*\u001b[0m\u001b[0margs\u001b[0m\u001b[1;33m,\u001b[0m \u001b[1;33m**\u001b[0m\u001b[0mkwargs\u001b[0m\u001b[1;33m)\u001b[0m\u001b[1;33m:\u001b[0m\u001b[1;33m\u001b[0m\u001b[1;33m\u001b[0m\u001b[0m\n\u001b[1;32m---> 45\u001b[1;33m         \u001b[0mcdata\u001b[0m \u001b[1;33m=\u001b[0m \u001b[0mfunction\u001b[0m\u001b[1;33m(\u001b[0m\u001b[1;33m*\u001b[0m\u001b[0margs\u001b[0m\u001b[1;33m,\u001b[0m \u001b[1;33m**\u001b[0m\u001b[0mkwargs\u001b[0m\u001b[1;33m)\u001b[0m\u001b[1;33m\u001b[0m\u001b[1;33m\u001b[0m\u001b[0m\n\u001b[0m\u001b[0;32m     46\u001b[0m         \u001b[1;31m# TODO: test cdata is of the expected CType\u001b[0m\u001b[1;33m\u001b[0m\u001b[1;33m\u001b[0m\u001b[1;33m\u001b[0m\u001b[0m\n\u001b[0;32m     47\u001b[0m         \u001b[1;32mreturn\u001b[0m \u001b[0m_cdata_to_rinterface\u001b[0m\u001b[1;33m(\u001b[0m\u001b[0mcdata\u001b[0m\u001b[1;33m)\u001b[0m\u001b[1;33m\u001b[0m\u001b[1;33m\u001b[0m\u001b[0m\n",
      "\u001b[1;32m~\\Anaconda3\\lib\\site-packages\\rpy2\\rinterface.py\u001b[0m in \u001b[0;36m__call__\u001b[1;34m(self, *args, **kwargs)\u001b[0m\n\u001b[0;32m    678\u001b[0m             )\n\u001b[0;32m    679\u001b[0m             \u001b[1;32mif\u001b[0m \u001b[0merror_occured\u001b[0m\u001b[1;33m[\u001b[0m\u001b[1;36m0\u001b[0m\u001b[1;33m]\u001b[0m\u001b[1;33m:\u001b[0m\u001b[1;33m\u001b[0m\u001b[1;33m\u001b[0m\u001b[0m\n\u001b[1;32m--> 680\u001b[1;33m                 \u001b[1;32mraise\u001b[0m \u001b[0membedded\u001b[0m\u001b[1;33m.\u001b[0m\u001b[0mRRuntimeError\u001b[0m\u001b[1;33m(\u001b[0m\u001b[0m_rinterface\u001b[0m\u001b[1;33m.\u001b[0m\u001b[0m_geterrmessage\u001b[0m\u001b[1;33m(\u001b[0m\u001b[1;33m)\u001b[0m\u001b[1;33m)\u001b[0m\u001b[1;33m\u001b[0m\u001b[1;33m\u001b[0m\u001b[0m\n\u001b[0m\u001b[0;32m    681\u001b[0m         \u001b[1;32mreturn\u001b[0m \u001b[0mres\u001b[0m\u001b[1;33m\u001b[0m\u001b[1;33m\u001b[0m\u001b[0m\n\u001b[0;32m    682\u001b[0m \u001b[1;33m\u001b[0m\u001b[0m\n",
      "\u001b[1;31mRRuntimeError\u001b[0m: Error in file(filename, \"r\", encoding = encoding) : \n  cannot open the connection\n"
     ]
    }
   ],
   "source": [
    "import rpy2.robjects as robjects\n",
    "r = robjects.r\n",
    "\n",
    "#importr(\"data.table\")\n",
    "newfunc = r.source(\"\"\"libClusteringGiadaMarsiliFast.R\"\"\")\n",
    "aggregateClusters=robjects.globalenv[\"aggregateClusters\"]   # now aggregateClusters is a Python function\n"
   ]
  },
  {
   "cell_type": "code",
   "execution_count": 28,
   "metadata": {},
   "outputs": [],
   "source": [
    "import rpy2.robjects.numpy2ri\n",
    "rpy2.robjects.numpy2ri.activate()\n",
    "\n",
    "C=DF_cut.corr()\n"
   ]
  },
  {
   "cell_type": "code",
   "execution_count": 31,
   "metadata": {},
   "outputs": [
    {
     "ename": "NameError",
     "evalue": "name 'aggregateClusters' is not defined",
     "output_type": "error",
     "traceback": [
      "\u001b[1;31m---------------------------------------------------------------------------\u001b[0m",
      "\u001b[1;31mNameError\u001b[0m                                 Traceback (most recent call last)",
      "\u001b[1;32m<ipython-input-31-39ec94bc98a9>\u001b[0m in \u001b[0;36m<module>\u001b[1;34m\u001b[0m\n\u001b[1;32m----> 1\u001b[1;33m \u001b[0mclust_ML\u001b[0m\u001b[1;33m=\u001b[0m\u001b[0maggregateClusters\u001b[0m\u001b[1;33m(\u001b[0m\u001b[0mC\u001b[0m\u001b[1;33m.\u001b[0m\u001b[0mvalues\u001b[0m\u001b[1;33m)\u001b[0m\u001b[1;33m\u001b[0m\u001b[1;33m\u001b[0m\u001b[0m\n\u001b[0m",
      "\u001b[1;31mNameError\u001b[0m: name 'aggregateClusters' is not defined"
     ]
    }
   ],
   "source": [
    "clust_ML=aggregateClusters(C.values)"
   ]
  },
  {
   "cell_type": "code",
   "execution_count": null,
   "metadata": {},
   "outputs": [],
   "source": [
    "clust_ML[3]   # this is a dictionary (List in the R language) which contains the membership of each cluster, one cluster at a time"
   ]
  },
  {
   "cell_type": "code",
   "execution_count": null,
   "metadata": {},
   "outputs": [],
   "source": [
    "np.array(clust_ML[3][0]) # first cluster"
   ]
  },
  {
   "cell_type": "code",
   "execution_count": null,
   "metadata": {},
   "outputs": [],
   "source": [
    "pd.DataFrame(np.array(clust_ML.rx[\"s_i\"][0]).flatten()).value_counts() # 49 clusters, of highly heterogeneous size"
   ]
  },
  {
   "cell_type": "code",
   "execution_count": null,
   "metadata": {},
   "outputs": [],
   "source": []
  }
 ],
 "metadata": {
  "kernelspec": {
   "display_name": "Python 3",
   "language": "python",
   "name": "python3"
  },
  "language_info": {
   "codemirror_mode": {
    "name": "ipython",
    "version": 3
   },
   "file_extension": ".py",
   "mimetype": "text/x-python",
   "name": "python",
   "nbconvert_exporter": "python",
   "pygments_lexer": "ipython3",
   "version": "3.7.4"
  }
 },
 "nbformat": 4,
 "nbformat_minor": 2
}
